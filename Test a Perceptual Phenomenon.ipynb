{
 "cells": [
  {
   "cell_type": "markdown",
   "metadata": {},
   "source": [
    "# Data Analysis Nanodegree\n",
    "## Laila Hussain Alqawain\n",
    "## Project: Test a Perceptual Phenomenon\n",
    "### Analyzing the Stroop Effect\n",
    "#### Background Information\n",
    "In a Stroop task, participants are presented with a list of words, with each word displayed in a color of ink. The participant’s task is to say out loud the color of the ink in which the word is printed. The task has two conditions: a congruent words condition, and an incongruent words condition. In the congruent words condition, the words being displayed are color words whose names match the colors in which they are printed: for example RED, BLUE. In the incongruent words condition, the words displayed are color words whose names do not match the colors in which they are printed: for example PURPLE, ORANGE. In each case, we measure the time it takes to name the ink colors in equally-sized lists. Each participant will go through and record a time from each condition.\n",
    "\n",
    "\n",
    "(1) What is the independent variable? What is the dependent variable?"
   ]
  },
  {
   "cell_type": "markdown",
   "metadata": {},
   "source": [
    "**Let's explain the independent variable and the dependent variable:<br>**\n",
    "**- An independent variable is a variable that is changed or controlled in a scientific experiment to test the effects on the dependent variable.**(1)<br>\n",
    "**- A dependent variable is a variable being tested and measured in a scientific experiment.**(1)<br>\n",
    "\n",
    "**For example, if the experimenter changes the independent variable, the effect on the dependent variable is observed and recorded.**(1)\n",
    "\n",
    "**From the dataset provided 'stroopdata.csv' I can see:<br>**\n",
    "**- The independent variable is congruent words and an incongruent words.<br>**\n",
    "**- The dependent variable is the time it takes to name the ink colors.**"
   ]
  },
  {
   "cell_type": "markdown",
   "metadata": {},
   "source": [
    "(2) What is an appropriate set of hypotheses for this task? Specify your null and alternative hypotheses, and clearly define any notation used. Justify your choices."
   ]
  },
  {
   "cell_type": "markdown",
   "metadata": {},
   "source": [
    "**After reviewing the dataset, I see there are just 24 rows and this means that the dataset is very small. So, I will find the population of the mean for Congruent words and the population of the mean for Incongruent words. Then, I will calculate the difference between them. That means I use the two-tailed t-test**<br><br>\n",
    "**My hypothesis will be:**<br>\n",
    "**- Null Hypothesis is there is no difference between the Congruent words mean and Incongruent words mean in response time.**<br>\n",
    "**- Alternative Hypothesis is there is a difference between the Congruent words mean and Incongruent words mean in response time.**<br><br>\n",
    "**H0: Null Hypothesis**<br>\n",
    "**H1: Alternative Hypothesis**<br>\n",
    "**μcongruent: The mean of the Congruent population's response times.**<br>\n",
    "**μincongruent:The mean of the Incongruent population's response times.**<br><br>\n",
    "**H0: μcongruent − μincongruent = 0**<br>\n",
    "**H1: μcongruent − μincongruent ≠ 0**<br>\n",
    "\n",
    "\n",
    "\n",
    "\n"
   ]
  },
  {
   "cell_type": "markdown",
   "metadata": {},
   "source": [
    "(3) Report some descriptive statistics regarding this dataset. Include at least one measure of central tendency and at least one measure of variability. The name of the data file is 'stroopdata.csv'."
   ]
  },
  {
   "cell_type": "code",
   "execution_count": 15,
   "metadata": {},
   "outputs": [],
   "source": [
    "# import packages\n",
    "import pandas as pd\n",
    "import scipy.stats as stats\n",
    "stats.chisqprob = lambda chisq, df: stats.chi2.sf(chisq, df)\n",
    "import matplotlib.pyplot as plt\n",
    "%matplotlib inline\n",
    "import seaborn as sns"
   ]
  },
  {
   "cell_type": "code",
   "execution_count": 16,
   "metadata": {},
   "outputs": [
    {
     "data": {
      "text/html": [
       "<div>\n",
       "<style>\n",
       "    .dataframe thead tr:only-child th {\n",
       "        text-align: right;\n",
       "    }\n",
       "\n",
       "    .dataframe thead th {\n",
       "        text-align: left;\n",
       "    }\n",
       "\n",
       "    .dataframe tbody tr th {\n",
       "        vertical-align: top;\n",
       "    }\n",
       "</style>\n",
       "<table border=\"1\" class=\"dataframe\">\n",
       "  <thead>\n",
       "    <tr style=\"text-align: right;\">\n",
       "      <th></th>\n",
       "      <th>Congruent</th>\n",
       "      <th>Incongruent</th>\n",
       "    </tr>\n",
       "  </thead>\n",
       "  <tbody>\n",
       "    <tr>\n",
       "      <th>0</th>\n",
       "      <td>12.079</td>\n",
       "      <td>19.278</td>\n",
       "    </tr>\n",
       "    <tr>\n",
       "      <th>1</th>\n",
       "      <td>16.791</td>\n",
       "      <td>18.741</td>\n",
       "    </tr>\n",
       "    <tr>\n",
       "      <th>2</th>\n",
       "      <td>9.564</td>\n",
       "      <td>21.214</td>\n",
       "    </tr>\n",
       "    <tr>\n",
       "      <th>3</th>\n",
       "      <td>8.630</td>\n",
       "      <td>15.687</td>\n",
       "    </tr>\n",
       "    <tr>\n",
       "      <th>4</th>\n",
       "      <td>14.669</td>\n",
       "      <td>22.803</td>\n",
       "    </tr>\n",
       "  </tbody>\n",
       "</table>\n",
       "</div>"
      ],
      "text/plain": [
       "   Congruent  Incongruent\n",
       "0     12.079       19.278\n",
       "1     16.791       18.741\n",
       "2      9.564       21.214\n",
       "3      8.630       15.687\n",
       "4     14.669       22.803"
      ]
     },
     "execution_count": 16,
     "metadata": {},
     "output_type": "execute_result"
    }
   ],
   "source": [
    "# read the dataset and stored in df\n",
    "df = pd.read_csv('stroopdata.csv')\n",
    "# print few lines from dataset\n",
    "df.head()"
   ]
  },
  {
   "cell_type": "markdown",
   "metadata": {},
   "source": [
    "**I will use the describe() method to see the descriptive statistics. So, it will show the measure of central tendency (mean) and the measure of variability (standard deviation and 5 number summaries(min, first quartile, second quartile, third quartile, max)). Then, I will calculate the difference between the means.**"
   ]
  },
  {
   "cell_type": "code",
   "execution_count": 17,
   "metadata": {},
   "outputs": [
    {
     "data": {
      "text/html": [
       "<div>\n",
       "<style>\n",
       "    .dataframe thead tr:only-child th {\n",
       "        text-align: right;\n",
       "    }\n",
       "\n",
       "    .dataframe thead th {\n",
       "        text-align: left;\n",
       "    }\n",
       "\n",
       "    .dataframe tbody tr th {\n",
       "        vertical-align: top;\n",
       "    }\n",
       "</style>\n",
       "<table border=\"1\" class=\"dataframe\">\n",
       "  <thead>\n",
       "    <tr style=\"text-align: right;\">\n",
       "      <th></th>\n",
       "      <th>Congruent</th>\n",
       "      <th>Incongruent</th>\n",
       "    </tr>\n",
       "  </thead>\n",
       "  <tbody>\n",
       "    <tr>\n",
       "      <th>count</th>\n",
       "      <td>24.000000</td>\n",
       "      <td>24.000000</td>\n",
       "    </tr>\n",
       "    <tr>\n",
       "      <th>mean</th>\n",
       "      <td>14.051125</td>\n",
       "      <td>22.015917</td>\n",
       "    </tr>\n",
       "    <tr>\n",
       "      <th>std</th>\n",
       "      <td>3.559358</td>\n",
       "      <td>4.797057</td>\n",
       "    </tr>\n",
       "    <tr>\n",
       "      <th>min</th>\n",
       "      <td>8.630000</td>\n",
       "      <td>15.687000</td>\n",
       "    </tr>\n",
       "    <tr>\n",
       "      <th>25%</th>\n",
       "      <td>11.895250</td>\n",
       "      <td>18.716750</td>\n",
       "    </tr>\n",
       "    <tr>\n",
       "      <th>50%</th>\n",
       "      <td>14.356500</td>\n",
       "      <td>21.017500</td>\n",
       "    </tr>\n",
       "    <tr>\n",
       "      <th>75%</th>\n",
       "      <td>16.200750</td>\n",
       "      <td>24.051500</td>\n",
       "    </tr>\n",
       "    <tr>\n",
       "      <th>max</th>\n",
       "      <td>22.328000</td>\n",
       "      <td>35.255000</td>\n",
       "    </tr>\n",
       "  </tbody>\n",
       "</table>\n",
       "</div>"
      ],
      "text/plain": [
       "       Congruent  Incongruent\n",
       "count  24.000000    24.000000\n",
       "mean   14.051125    22.015917\n",
       "std     3.559358     4.797057\n",
       "min     8.630000    15.687000\n",
       "25%    11.895250    18.716750\n",
       "50%    14.356500    21.017500\n",
       "75%    16.200750    24.051500\n",
       "max    22.328000    35.255000"
      ]
     },
     "execution_count": 17,
     "metadata": {},
     "output_type": "execute_result"
    }
   ],
   "source": [
    "# use the describe method to know the descriptive statistics for the dataset provided.\n",
    "df.describe()"
   ]
  },
  {
   "cell_type": "markdown",
   "metadata": {},
   "source": [
    "**As we see above:**<br>\n",
    "**- The mean of Congruent words is = 14.051125**<br>\n",
    "**- The mean of Incongruent words is = 22.015917**<br>\n",
    "**- The standard deviation of Congruent words is = 3.559358**<br>\n",
    "**- The standard deviation of Incongruent words is = 4.797057**<br>\n",
    "    "
   ]
  },
  {
   "cell_type": "code",
   "execution_count": 18,
   "metadata": {},
   "outputs": [
    {
     "name": "stdout",
     "output_type": "stream",
     "text": [
      "The difference in the means of response time between the Incongruent words and the Congruent words is = 7.964792000000001\n"
     ]
    }
   ],
   "source": [
    "# calculate the difference between the mean of Incongruent words and the mean of Congruent words.\n",
    "diff_mean = 22.015917 - 14.051125\n",
    "print(\"The difference in the means of response time between the Incongruent words and the Congruent words is = {}\".format(diff_mean))"
   ]
  },
  {
   "cell_type": "markdown",
   "metadata": {},
   "source": [
    "(4) Provide one or two visualizations that show the distribution of the sample data. Write one or two sentences noting what you observe about the plot or plots."
   ]
  },
  {
   "cell_type": "markdown",
   "metadata": {
    "collapsed": true
   },
   "source": [
    "#### Insight #1"
   ]
  },
  {
   "cell_type": "code",
   "execution_count": 19,
   "metadata": {},
   "outputs": [
    {
     "data": {
      "image/png": "[encoded data removed]",
      "text/plain": [
       "<matplotlib.figure.Figure at 0x7f3ddfa55b70>"
      ]
     },
     "metadata": {
      "needs_background": "light"
     },
     "output_type": "display_data"
    }
   ],
   "source": [
    "# histograms for The Response Time for Congruent Words and Incongruent Words\n",
    "plt.figure(figsize=(8, 5))\n",
    "plt.hist(df['Congruent'], alpha=.5, label='Congruent')\n",
    "plt.hist(df['Incongruent'], alpha=.5, label='Incongruent')\n",
    "plt.title('The Response Time for Congruent Words and Incongruent Words')\n",
    "plt.xlabel('The Response Time')\n",
    "plt.ylabel('Count')\n",
    "plt.legend();"
   ]
  },
  {
   "cell_type": "markdown",
   "metadata": {},
   "source": [
    "**From the histograms above, we can see the response time for Incongruent words and for Congruent words are right_skewed. In addition, the response time for Incongruent words is larger than the response time for the Congruent words.**"
   ]
  },
  {
   "cell_type": "markdown",
   "metadata": {},
   "source": [
    "#### Insight #2"
   ]
  },
  {
   "cell_type": "code",
   "execution_count": 20,
   "metadata": {},
   "outputs": [
    {
     "data": {
      "text/plain": [
       "Text(0,0.5,'Height')"
      ]
     },
     "execution_count": 20,
     "metadata": {},
     "output_type": "execute_result"
    },
    {
     "data": {
      "image/png": "[encoded data removed]",
      "text/plain": [
       "<matplotlib.figure.Figure at 0x7f3ddf9e5048>"
      ]
     },
     "metadata": {
      "needs_background": "light"
     },
     "output_type": "display_data"
    }
   ],
   "source": [
    "# bar plot for The Response Time for Congruent Words and Incongruent Words\n",
    "bar_df = df.plot(figsize=(8, 5), title='The Response Time for Congruent Words and Incongruent Words', kind='bar');\n",
    "bar_df.set_xlabel(\"The Response Time\")\n",
    "bar_df.set_ylabel(\"Height\")"
   ]
  },
  {
   "cell_type": "markdown",
   "metadata": {},
   "source": [
    "**From the bar plot above, we can see the response time for Incongruent words is always higher than the Congruent words. As the same what we observed before in insight #1.**"
   ]
  },
  {
   "cell_type": "markdown",
   "metadata": {},
   "source": [
    "(5)  Now, perform the statistical test and report your results. What is your confidence level or Type I error associated with your test? What is your conclusion regarding the hypotheses you set up? Did the results match up with your expectations? **Hint:**  Think about what is being measured on each individual, and what statistic best captures how an individual reacts in each environment."
   ]
  },
  {
   "cell_type": "markdown",
   "metadata": {},
   "source": [
    "**As I informed before, I will use two-tailed t-test. Due to we have a small sample of the dataset and we do not know the variance of two normal distributions. So, the t-test is appropriate for testing between congruent words and incongruent words. In addition, the confidence level is  = 0.05 in a two-tailed test will be used. For each tail will be 0.025. Let's find the p-value and t-statistic and decide the result for the analysis.**<br>\n"
   ]
  },
  {
   "cell_type": "code",
   "execution_count": 21,
   "metadata": {},
   "outputs": [
    {
     "name": "stdout",
     "output_type": "stream",
     "text": [
      "The T-Statistic is = -8.02070694411\n",
      "The P-Value is = 4.10300058571e-08\n"
     ]
    }
   ],
   "source": [
    "# find the p-value and t-statistic\n",
    "t, p = stats.ttest_rel(df.Congruent,df.Incongruent)\n",
    "print('The T-Statistic is =', t)\n",
    "print('The P-Value is =', p)"
   ]
  },
  {
   "cell_type": "markdown",
   "metadata": {},
   "source": [
    "**As we see above, the t-statistic is very large and the p-value is small. When we compare between the p-value and our confidence level whcih is 0.025, we can see (4.1030e-08 < 0.025) p-value is lower than the confidence level.**<br><br>\n",
    "\n",
    "**Depending on the result of the analysis and as we see how a large difference between the response time for Incongruent words and Congruent words we decide to Reject The Null Hypothesis and Fail to Reject The Alternative Hypothesis.**"
   ]
  },
  {
   "cell_type": "markdown",
   "metadata": {},
   "source": [
    "### Conclusion:"
   ]
  },
  {
   "cell_type": "markdown",
   "metadata": {},
   "source": [
    "**- I defined The independent variable which is congruent words and incongruent words.**<br>\n",
    "**- I defined The dependent variable is the time it takes to name the ink colors.**<br>\n",
    "**- I set my hypothesis which is:**<br>\n",
    "**Null Hypothesis: μcongruent − μincongruent = 0**<br>\n",
    "**Altranative Hypothesis: μcongruent − μincongruent ≠ 0**<br>\n",
    "**- I provided two insights which had the same observation. It is the response time for Incongruent words is always higher than the Congruent words**<br>\n",
    "**- Depending on the dataset provided, I used two tailed t-tests for the analysis.**<br>\n",
    "**- I found the p-value and t-statistic. Then, I compared between the p-value which is 4.1030e-08 and confidence level which is 0.025. I can  see p-value is lower than the confidence level.**<br>\n",
    "**- I found there is a large difference between the response time for Incongruent words and Congruent words**<br>\n",
    "**- So, I decided to Reject The Null Hypothesis and Fail to Reject The Alternative Hypothesis.**<br>"
   ]
  },
  {
   "cell_type": "markdown",
   "metadata": {},
   "source": [
    "### Resources:"
   ]
  },
  {
   "cell_type": "markdown",
   "metadata": {},
   "source": [
    "**- (1) https://www.thoughtco.com/independent-and-dependent-variables-differences-606115**<br>\n",
    "**- https://www.khanacademy.org/math/ap-statistics/tests-significance-ap/idea-significance-tests/v/p-values-and-significance-tests**<br>\n",
    "**- https://www.khanacademy.org/math/ap-statistics/tests-significance-ap/idea-significance-tests/v/comparing-p-value-diff-significance-levels**<br>"
   ]
  }
 ],
 "metadata": {
  "kernelspec": {
   "display_name": "Python 3",
   "language": "python",
   "name": "python3"
  },
  "language_info": {
   "codemirror_mode": {
    "name": "ipython",
    "version": 3
   },
   "file_extension": ".py",
   "mimetype": "text/x-python",
   "name": "python",
   "nbconvert_exporter": "python",
   "pygments_lexer": "ipython3",
   "version": "3.6.3"
  }
 },
 "nbformat": 4,
 "nbformat_minor": 2
}
